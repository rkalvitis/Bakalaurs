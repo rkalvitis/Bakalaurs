{
 "cells": [
  {
   "cell_type": "code",
   "execution_count": 13,
   "metadata": {},
   "outputs": [],
   "source": [
    "import os\n",
    "from PIL import Image\n",
    "from stability_sdk import client\n",
    "import stability_sdk.interfaces.gooseai.generation.generation_pb2 as generation\n",
    "import io\n",
    "import warnings\n"
   ]
  },
  {
   "cell_type": "code",
   "execution_count": 14,
   "metadata": {},
   "outputs": [],
   "source": [
    "os.environ['STABILITY_HOST'] = 'grpc.stability.ai:443'\n",
    "# Set up our connection to the API.\n",
    "stability_api = client.StabilityInference(\n",
    "    key='sk-kB00ghVoLTtUT6tvojO9VpsSso3f1g7XfYKjxyWchfxMhTTD', # API Key reference.\n",
    "    verbose=True, # Print debug messages.\n",
    "    engine=\"stable-diffusion-xl-1024-v1-0\", # Set the engine to use for generation.\n",
    "    # Check out the following link for a list of available engines: https://platform.stability.ai/docs/features/api-parameters#engine\n",
    ")"
   ]
  },
  {
   "cell_type": "code",
   "execution_count": 15,
   "metadata": {},
   "outputs": [],
   "source": [
    "\n",
    "def load_images_from_folder(folder):\n",
    "    images = []\n",
    "    for filename in os.listdir(folder):\n",
    "        img_path = os.path.join(folder, filename)\n",
    "        if os.path.isfile(img_path):\n",
    "            img = Image.open(img_path)\n",
    "            img = img.resize((700, 700))  # Resize the image\n",
    "            if img is not None:\n",
    "                images.append((img, filename))\n",
    "    return images\n",
    "\n",
    "def ensure_dir(path):\n",
    "    if not os.path.exists(path):\n",
    "        os.makedirs(path)\n",
    "\n",
    "def get_cell_description(cell_type):\n",
    "    cell_descriptions = {\n",
    "        \"cell_type_A549\": \"human lung adenocarcinoma alveolar basal epithelial cells\",\n",
    "        \"cell_type_CACO-2\": \"colorectal adenocarcinoma epithelial cells\",\n",
    "        \"cell_type_HPMEC\": \"human pulmonary microvascular endothelial cells\",\n",
    "        \"cell_type_HSAEC\": \"human small airway epithelial cells\",\n",
    "        \"cell_type_HUVEC\": \"human umbilical vein endothelial cells\",\n",
    "        \"cell_type_NHBE\": \"normal human bronchial epithelial cells\"\n",
    "    }\n",
    "    return cell_descriptions.get(cell_type, \"Unknown cell type\")"
   ]
  },
  {
   "cell_type": "code",
   "execution_count": 20,
   "metadata": {},
   "outputs": [],
   "source": [
    "def generate_synthetic_images(base_folder, output_base):\n",
    "    categories = ['bad', 'good']\n",
    "    cell_types = ['cell_type_A549', 'cell_type_CACO-2', 'cell_type_HPMEC', 'cell_type_HSAEC', 'cell_type_HUVEC', 'cell_type_NHBE']\n",
    "    time_periods = ['0-1_days', '2-3_days', '4+_days', '4_days']\n",
    "\n",
    "    for category in categories:\n",
    "        for cell_type in cell_types:\n",
    "            for period in time_periods:\n",
    "                real_path = os.path.join(base_folder, category, cell_type, period)\n",
    "                synthetic_path = os.path.join(output_base, category, cell_type, period)\n",
    "                ensure_dir(synthetic_path)\n",
    "                if os.path.exists(real_path):\n",
    "                    images = load_images_from_folder(real_path)\n",
    "                    for img_resized, filename in images:\n",
    "                        img_resized.save(os.path.join(synthetic_path, filename))  # Save the resized image\n",
    "                        for i in range(3):  # Generate 3 synthetic images for each real image\n",
    "                            prompt = f\"{get_cell_description(cell_type)}, cell age {period}\"\n",
    "                            answers2 = stability_api.generate(\n",
    "                                prompt=prompt,\n",
    "                                init_image=img_resized,  # Ensure img_resized is the image object\n",
    "                                start_schedule=0.2,\n",
    "                                steps=50,\n",
    "                                cfg_scale=10,\n",
    "                                width=700,\n",
    "                                height=700\n",
    "                            )\n",
    "                            # Handle response from stability API\n",
    "                            for resp in answers2:\n",
    "                                for artifact in resp.artifacts:\n",
    "                                    if artifact.finish_reason == generation.FILTER:\n",
    "                                        warnings.warn(\"Your request activated the API's safety filters.\")\n",
    "                                    if artifact.type == generation.ARTIFACT_IMAGE:\n",
    "                                        img2 = Image.open(io.BytesIO(artifact.binary))\n",
    "                                        synthetic_file_name = f\"synthetic_{os.path.splitext(filename)[0]}_{i+1}.png\"\n",
    "                                        img2.save(os.path.join(synthetic_path, synthetic_file_name))\n"
   ]
  },
  {
   "cell_type": "code",
   "execution_count": 21,
   "metadata": {},
   "outputs": [
    {
     "ename": "_MultiThreadedRendezvous",
     "evalue": "<_MultiThreadedRendezvous of RPC that terminated with:\n\tstatus = StatusCode.RESOURCE_EXHAUSTED\n\tdetails = \"Your organization does not have enough balance to request this action (need $0.0025134375, have $0.00116944 in active grants, $0 in balance).\"\n\tdebug_error_string = \"UNKNOWN:Error received from peer ipv4:172.64.153.32:443 {grpc_message:\"Your organization does not have enough balance to request this action (need $0.0025134375, have $0.00116944 in active grants, $0 in balance).\", grpc_status:8, created_time:\"2024-04-29T16:45:55.481018996+00:00\"}\"\n>",
     "output_type": "error",
     "traceback": [
      "\u001b[1;31m---------------------------------------------------------------------------\u001b[0m",
      "\u001b[1;31m_MultiThreadedRendezvous\u001b[0m                  Traceback (most recent call last)",
      "Cell \u001b[1;32mIn[21], line 3\u001b[0m\n\u001b[0;32m      1\u001b[0m base_path \u001b[38;5;241m=\u001b[39m \u001b[38;5;124m\"\u001b[39m\u001b[38;5;124mOOC_image_dataset/train\u001b[39m\u001b[38;5;124m\"\u001b[39m\n\u001b[0;32m      2\u001b[0m output_path \u001b[38;5;241m=\u001b[39m \u001b[38;5;124m\"\u001b[39m\u001b[38;5;124msynthetic_data/train\u001b[39m\u001b[38;5;124m\"\u001b[39m\n\u001b[1;32m----> 3\u001b[0m \u001b[43mgenerate_synthetic_images\u001b[49m\u001b[43m(\u001b[49m\u001b[43mbase_path\u001b[49m\u001b[43m,\u001b[49m\u001b[43m \u001b[49m\u001b[43moutput_path\u001b[49m\u001b[43m)\u001b[49m\n",
      "Cell \u001b[1;32mIn[20], line 28\u001b[0m, in \u001b[0;36mgenerate_synthetic_images\u001b[1;34m(base_folder, output_base)\u001b[0m\n\u001b[0;32m     18\u001b[0m answers2 \u001b[38;5;241m=\u001b[39m stability_api\u001b[38;5;241m.\u001b[39mgenerate(\n\u001b[0;32m     19\u001b[0m     prompt\u001b[38;5;241m=\u001b[39mprompt,\n\u001b[0;32m     20\u001b[0m     init_image\u001b[38;5;241m=\u001b[39mimg_resized,  \u001b[38;5;66;03m# Ensure img_resized is the image object\u001b[39;00m\n\u001b[1;32m   (...)\u001b[0m\n\u001b[0;32m     25\u001b[0m     height\u001b[38;5;241m=\u001b[39m\u001b[38;5;241m700\u001b[39m\n\u001b[0;32m     26\u001b[0m )\n\u001b[0;32m     27\u001b[0m \u001b[38;5;66;03m# Handle response from stability API\u001b[39;00m\n\u001b[1;32m---> 28\u001b[0m \u001b[38;5;28;01mfor\u001b[39;00m resp \u001b[38;5;129;01min\u001b[39;00m answers2:\n\u001b[0;32m     29\u001b[0m     \u001b[38;5;28;01mfor\u001b[39;00m artifact \u001b[38;5;129;01min\u001b[39;00m resp\u001b[38;5;241m.\u001b[39martifacts:\n\u001b[0;32m     30\u001b[0m         \u001b[38;5;28;01mif\u001b[39;00m artifact\u001b[38;5;241m.\u001b[39mfinish_reason \u001b[38;5;241m==\u001b[39m generation\u001b[38;5;241m.\u001b[39mFILTER:\n",
      "File \u001b[1;32mc:\\Users\\Roberts\\AppData\\Local\\Programs\\Python\\Python39\\lib\\site-packages\\stability_sdk\\client.py:395\u001b[0m, in \u001b[0;36mStabilityInference.emit_request\u001b[1;34m(self, prompt, image_parameters, extra_parameters, engine_id, request_id)\u001b[0m\n\u001b[0;32m    392\u001b[0m     logger\u001b[38;5;241m.\u001b[39minfo(\u001b[38;5;124m\"\u001b[39m\u001b[38;5;124mSending request.\u001b[39m\u001b[38;5;124m\"\u001b[39m)\n\u001b[0;32m    394\u001b[0m start \u001b[38;5;241m=\u001b[39m time\u001b[38;5;241m.\u001b[39mtime()\n\u001b[1;32m--> 395\u001b[0m \u001b[38;5;28;01mfor\u001b[39;00m answer \u001b[38;5;129;01min\u001b[39;00m \u001b[38;5;28mself\u001b[39m\u001b[38;5;241m.\u001b[39mstub\u001b[38;5;241m.\u001b[39mGenerate(rq, \u001b[38;5;241m*\u001b[39m\u001b[38;5;241m*\u001b[39m\u001b[38;5;28mself\u001b[39m\u001b[38;5;241m.\u001b[39mgrpc_args):\n\u001b[0;32m    396\u001b[0m     duration \u001b[38;5;241m=\u001b[39m time\u001b[38;5;241m.\u001b[39mtime() \u001b[38;5;241m-\u001b[39m start\n\u001b[0;32m    397\u001b[0m     \u001b[38;5;28;01mif\u001b[39;00m \u001b[38;5;28mself\u001b[39m\u001b[38;5;241m.\u001b[39mverbose:\n",
      "File \u001b[1;32mc:\\Users\\Roberts\\AppData\\Local\\Programs\\Python\\Python39\\lib\\site-packages\\grpc\\_channel.py:475\u001b[0m, in \u001b[0;36m_Rendezvous.__next__\u001b[1;34m(self)\u001b[0m\n\u001b[0;32m    474\u001b[0m \u001b[38;5;28;01mdef\u001b[39;00m \u001b[38;5;21m__next__\u001b[39m(\u001b[38;5;28mself\u001b[39m):\n\u001b[1;32m--> 475\u001b[0m     \u001b[38;5;28;01mreturn\u001b[39;00m \u001b[38;5;28;43mself\u001b[39;49m\u001b[38;5;241;43m.\u001b[39;49m\u001b[43m_next\u001b[49m\u001b[43m(\u001b[49m\u001b[43m)\u001b[49m\n",
      "File \u001b[1;32mc:\\Users\\Roberts\\AppData\\Local\\Programs\\Python\\Python39\\lib\\site-packages\\grpc\\_channel.py:881\u001b[0m, in \u001b[0;36m_MultiThreadedRendezvous._next\u001b[1;34m(self)\u001b[0m\n\u001b[0;32m    879\u001b[0m     \u001b[38;5;28;01mraise\u001b[39;00m \u001b[38;5;167;01mStopIteration\u001b[39;00m()\n\u001b[0;32m    880\u001b[0m \u001b[38;5;28;01melif\u001b[39;00m \u001b[38;5;28mself\u001b[39m\u001b[38;5;241m.\u001b[39m_state\u001b[38;5;241m.\u001b[39mcode \u001b[38;5;129;01mis\u001b[39;00m \u001b[38;5;129;01mnot\u001b[39;00m \u001b[38;5;28;01mNone\u001b[39;00m:\n\u001b[1;32m--> 881\u001b[0m     \u001b[38;5;28;01mraise\u001b[39;00m \u001b[38;5;28mself\u001b[39m\n",
      "\u001b[1;31m_MultiThreadedRendezvous\u001b[0m: <_MultiThreadedRendezvous of RPC that terminated with:\n\tstatus = StatusCode.RESOURCE_EXHAUSTED\n\tdetails = \"Your organization does not have enough balance to request this action (need $0.0025134375, have $0.00116944 in active grants, $0 in balance).\"\n\tdebug_error_string = \"UNKNOWN:Error received from peer ipv4:172.64.153.32:443 {grpc_message:\"Your organization does not have enough balance to request this action (need $0.0025134375, have $0.00116944 in active grants, $0 in balance).\", grpc_status:8, created_time:\"2024-04-29T16:45:55.481018996+00:00\"}\"\n>"
     ]
    }
   ],
   "source": [
    "base_path = \"OOC_image_dataset/train\"\n",
    "output_path = \"synthetic_data/train\"\n",
    "generate_synthetic_images(base_path, output_path)"
   ]
  }
 ],
 "metadata": {
  "kernelspec": {
   "display_name": "Python 3",
   "language": "python",
   "name": "python3"
  },
  "language_info": {
   "codemirror_mode": {
    "name": "ipython",
    "version": 3
   },
   "file_extension": ".py",
   "mimetype": "text/x-python",
   "name": "python",
   "nbconvert_exporter": "python",
   "pygments_lexer": "ipython3",
   "version": "3.9.13"
  }
 },
 "nbformat": 4,
 "nbformat_minor": 2
}
