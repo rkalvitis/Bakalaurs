{
 "cells": [
  {
   "cell_type": "code",
   "execution_count": 1,
   "metadata": {},
   "outputs": [],
   "source": [
    "import sys\n",
    "sys.path.append('../')\n",
    "import torch\n",
    "import torch.nn as nn\n",
    "import torch.optim as optim\n",
    "from torch.utils.data import Dataset, DataLoader, random_split\n",
    "from torchvision import models, transforms\n",
    "from PIL import Image\n",
    "import pandas as pd\n",
    "import os\n",
    "import TrainDataPrepare as td\n",
    "import HelperFunctions as hf\n",
    "\n",
    "sys.path.remove('../')"
   ]
  },
  {
   "cell_type": "code",
   "execution_count": 2,
   "metadata": {},
   "outputs": [
    {
     "name": "stdout",
     "output_type": "stream",
     "text": [
      "Headers in the CSV: ['imageID', 'cell type', 'seeding density, cells/ml', 'time after seeding, h', 'day', 'Decision 1/2 (good/bad)', 'flow rate']\n",
      "Copied 'c:\\Users\\Roberts\\Documents\\repos\\Bakalaurs\\OOC_image_dataset\\test' to 'c:\\Users\\Roberts\\Documents\\repos\\Bakalaurs\\prepared_data\\test' successfully.\n",
      "Copied 'c:\\Users\\Roberts\\Documents\\repos\\Bakalaurs\\OOC_image_dataset\\val' to 'c:\\Users\\Roberts\\Documents\\repos\\Bakalaurs\\prepared_data\\val' successfully.\n",
      "Collected 4684 image paths.\n",
      "Filtered dataset contains 4684 records.\n",
      "Train data saved to ../prepared_data\\train\\train_dataset.csv\n",
      "Val data saved to ../prepared_data\\val\\val_dataset.csv\n",
      "Test data saved to ../prepared_data\\test\\test_dataset.csv\n"
     ]
    }
   ],
   "source": [
    "#prepare csv\n",
    "#prepare data for traning and place them into prepared_data folder\n",
    "td.SelectDataByPercent('../OOC_image_dataset/train', '../prepared_data/train', 100)\n",
    "td.SelectDataByPercent('../synthetic_data_0.1/train', '../prepared_data/train', 25)\n",
    "\n",
    "#transform xlsx file to csv \n",
    "hf.convert_xlsx_to_csv('../OOC_datasheet.xlsx', '../OOC_datasheet.csv')\n",
    "\n",
    "#create csv file also for sythetic data \n",
    "td.create_synthetic_csv_from_real_and_structure('../OOC_datasheet.csv', '../synthetic_data_0.1/train', '../OOC_datasheet_01.csv')\n",
    "\n",
    "#join both csv files toghether\n",
    "hf.concatenate_csv('../OOC_datasheet.csv', '../OOC_datasheet_01.csv', '../OOC_datasheet_joined.csv')\n",
    "hf.delete_file('../OOC_datasheet.csv')\n",
    "hf.delete_file('../OOC_datasheet_01.csv')\n",
    "\n",
    "#transfer val and test datasets to prepared data\n",
    "hf.copy_directory('../OOC_image_dataset/test/', '../prepared_data')\n",
    "hf.copy_directory('../OOC_image_dataset/val/', '../prepared_data')\n",
    "\n",
    "#split the csv files into train, val, test\n",
    "hf.split_datasets_by_actual_images('../OOC_datasheet_joined.csv', '../prepared_data', '../prepared_data')\n",
    "hf.delete_file('../OOC_datasheet_joined.csv')\n",
    "\n"
   ]
  },
  {
   "cell_type": "code",
   "execution_count": 6,
   "metadata": {},
   "outputs": [],
   "source": [
    "\n",
    "\n",
    "\n",
    "transform = transforms.Compose([\n",
    "    transforms.Resize((600, 600)),  # EfficientNet B7 uses a larger input size\n",
    "    transforms.ToTensor(),\n",
    "    transforms.Normalize([0.485, 0.456, 0.406], [0.229, 0.224, 0.225])\n",
    "])\n",
    "\n",
    "\n",
    "\n",
    "\n",
    "\n",
    "# Create datasets\n",
    "train_dataset = td.CellsDataset(root_dir='../OOC_image_dataset/train', transform=transform)\n",
    "val_dataset = td.CellsDataset(root_dir='../OOC_image_dataset/val', transform=transform)\n",
    "test_dataset = td.CellsDataset(root_dir='../OOC_image_dataset/test', transform=transform)\n",
    "\n",
    "train_loader = DataLoader(train_dataset, batch_size=32, shuffle=True)\n",
    "val_loader = DataLoader(val_dataset, batch_size=32, shuffle=False)\n",
    "test_loader = DataLoader(test_dataset, batch_size=32, shuffle=False)\n",
    "\n",
    "\n"
   ]
  }
 ],
 "metadata": {
  "kernelspec": {
   "display_name": "Python 3",
   "language": "python",
   "name": "python3"
  },
  "language_info": {
   "codemirror_mode": {
    "name": "ipython",
    "version": 3
   },
   "file_extension": ".py",
   "mimetype": "text/x-python",
   "name": "python",
   "nbconvert_exporter": "python",
   "pygments_lexer": "ipython3",
   "version": "3.11.9"
  }
 },
 "nbformat": 4,
 "nbformat_minor": 2
}
