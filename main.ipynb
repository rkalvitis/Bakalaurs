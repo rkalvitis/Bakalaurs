{
 "cells": [
  {
   "cell_type": "code",
   "execution_count": null,
   "metadata": {},
   "outputs": [],
   "source": [
    "import model as m\n",
    "random_seeds = [5624, 7921, 2048, 1337, 9876]\n",
    "synDirs = ['synthetic_data_0.1/train' ,'synthetic_data_0.15/train']\n",
    "synPercents = [25, 50, 75, 100]\n",
    "SinType = '0.1'\n",
    "\n",
    "for random_seed in random_seeds:\n",
    "    m.TrainOnMobileNetV2('synthetic_data_0.1/train', random_seed)\n",
    "\n",
    "for synDir in synDirs:\n",
    "    for synPercent in synPercents:\n",
    "        for random_seed in random_seeds:\n",
    "            if (synDir == 'synthetic_data_0.15/train'):\n",
    "                SinType = '0.15'\n",
    "            else:\n",
    "                SinType = '0.1'\n",
    "            m.TrainOnMobileNetV2(synDir, random_seed, SinType, synPercent)\n",
    "\n",
    "\n",
    "\n"
   ]
  }
 ],
 "metadata": {
  "kernelspec": {
   "display_name": "Python 3",
   "language": "python",
   "name": "python3"
  },
  "language_info": {
   "name": "python",
   "version": "3.11.9"
  }
 },
 "nbformat": 4,
 "nbformat_minor": 2
}
