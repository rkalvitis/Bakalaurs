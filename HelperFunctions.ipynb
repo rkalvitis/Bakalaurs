{
 "cells": [
  {
   "cell_type": "code",
   "execution_count": 150,
   "metadata": {},
   "outputs": [
    {
     "name": "stdout",
     "output_type": "stream",
     "text": [
      "No matching number sequence found in 221123_5.png\n",
      "No matching number sequence found in 221123_6.png\n",
      "No matching number sequence found in 221123_8.png\n",
      "No matching number sequence found in synthetic_221123_5_1.png\n",
      "No matching number sequence found in synthetic_221123_5_2.png\n",
      "No matching number sequence found in synthetic_221123_5_3.png\n",
      "No matching number sequence found in synthetic_221123_6_1.png\n",
      "No matching number sequence found in synthetic_221123_6_2.png\n",
      "No matching number sequence found in synthetic_221123_6_3.png\n",
      "No matching number sequence found in synthetic_221123_8_1.png\n",
      "No matching number sequence found in synthetic_221123_8_2.png\n",
      "No matching number sequence found in synthetic_221123_8_3.png\n"
     ]
    }
   ],
   "source": [
    "import os\n",
    "import shutil\n",
    "import re\n",
    "\n",
    "def sort_images(base_path):\n",
    "    # Regex to extract the sequence of a six-digit number followed by an underscore and then 2 or 3 digits\n",
    "    digit_pattern = re.compile(r'\\d{6}_\\d{2,3}')\n",
    "\n",
    "    # Ensure the base directory exists\n",
    "    if not os.path.exists(base_path):\n",
    "        print(f\"Error: The path {base_path} does not exist.\")\n",
    "        return\n",
    "\n",
    "    # List all files in the directory\n",
    "    for filename in os.listdir(base_path):\n",
    "        # Skip directories\n",
    "        if os.path.isdir(os.path.join(base_path, filename)):\n",
    "            continue\n",
    "\n",
    "        # Search for the sequence in the filename\n",
    "        match = digit_pattern.search(filename)\n",
    "        if match:\n",
    "            digit_folder = match.group()\n",
    "            # Path for the new directory\n",
    "            new_dir_path = os.path.join(base_path, digit_folder)\n",
    "\n",
    "            # Create the directory if it does not exist\n",
    "            if not os.path.exists(new_dir_path):\n",
    "                os.makedirs(new_dir_path)\n",
    "\n",
    "            # Move the file into the corresponding directory\n",
    "            shutil.move(os.path.join(base_path, filename), os.path.join(new_dir_path, filename))\n",
    "        else:\n",
    "            print(f\"No matching number sequence found in {filename}\")\n",
    "\n",
    "# Example usage:\n",
    "# sort_images('/path/to/your/images')\n",
    "sort_images('synthetic_data/train/bad/cell_type_A549/0-1_days')"
   ]
  },
  {
   "cell_type": "code",
   "execution_count": null,
   "metadata": {},
   "outputs": [],
   "source": [
    "# Example usage:\n",
    "# sort_images('/path/to/your/images')\n",
    "#sort_images('synthetic_data/train/bad/cell_type_A549/0-1_days')"
   ]
  }
 ],
 "metadata": {
  "kernelspec": {
   "display_name": "Python 3",
   "language": "python",
   "name": "python3"
  },
  "language_info": {
   "codemirror_mode": {
    "name": "ipython",
    "version": 3
   },
   "file_extension": ".py",
   "mimetype": "text/x-python",
   "name": "python",
   "nbconvert_exporter": "python",
   "pygments_lexer": "ipython3",
   "version": "3.9.13"
  }
 },
 "nbformat": 4,
 "nbformat_minor": 2
}
